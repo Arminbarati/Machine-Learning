{
  "cells": [
    {
      "cell_type": "markdown",
      "metadata": {
        "id": "9WjsBPzEFKMW"
      },
      "source": [
        "# HW CI-7 CNN Fashion\n",
        "\n",
        "\n",
        "Computational Intelligence  - STRATEGOS  UNIGE\n",
        "\n",
        "Names: Armin Baratzadeh\n",
        "\n",
        "Date 6/may/2022\n",
        "\n",
        "\n"
      ]
    },
    {
      "cell_type": "markdown",
      "metadata": {
        "id": "lk7ayopvh6vr"
      },
      "source": [
        "## Assignment: Implement a CNN in Keras\n",
        "\n",
        "We will implement a Convolutional Neural Network in Keras\n",
        "\n",
        "Then we will apply our CNN to Fashion MNIST dataset \n",
        "\n",
        "\n",
        "### CNN Fashion Mnist - Challenge CI Strategos 2021-22\n",
        "After submitted your Homework on the Aulaweb of the CI course\n",
        "your best result to the [shared table](https://docs.google.com/spreadsheets/d/1RwZDt9mmNH-eMusX6Yqukw1-v_oHSWSQDVlKqF-e97w/edit?usp=sharing) before the due date of the Homework\n",
        "\n",
        "The winner(s) of the challenge will receive .5 extra-mark"
      ]
    },
    {
      "cell_type": "markdown",
      "metadata": {
        "id": "0SyO72xOFKMX"
      },
      "source": [
        "## Pre-requisites:\n",
        "\n",
        "It is possible to run this notebook locally on a jupyter installation, but we recommend to run this this notebook in the cloud on [Google Colab](https://colab.research.google.com/?utm_source=scs-index) because Colab makes possible to test the execution both on the standard CPU kernel and on a GPU powered one.\n",
        "\n",
        "You can switch between them by selecting the following menuitems: Edit $\\rightarrow$ Notebook settings $\\rightarrow$ Hardware accelerator\n",
        "\n",
        "Local execution requires to [install TensorFlow](https://www.tensorflow.org/install/), which is not always an easy task due to different version of dependent libraries, and [tf.keras](https://www.tensorflow.org/guide/keras) which\n",
        "is TensorFlow's high-level API for building and training deep learning models. \n",
        "\n",
        "You may find detailed documentation at [Keras Guide](https://keras.io/)  [(see  also here)](https://www.tensorflow.org/guide/keras).\n",
        "\n",
        "## Required imports:"
      ]
    },
    {
      "cell_type": "code",
      "execution_count": 1,
      "metadata": {
        "colab": {
          "base_uri": "https://localhost:8080/"
        },
        "id": "gHoRYxKGFKMe",
        "outputId": "72ba4799-66fd-4812-b189-47fbd59d6cbf"
      },
      "outputs": [
        {
          "name": "stdout",
          "output_type": "stream",
          "text": [
            "2.15.0\n"
          ]
        }
      ],
      "source": [
        "\n",
        "# TensorFlow and tf.keras\n",
        "import tensorflow as tf\n",
        "from tensorflow import keras\n",
        "from tensorflow.keras.layers import Conv2D, MaxPooling2D, Dropout, Flatten, Dense\n",
        "\n",
        "# Commonly used modules\n",
        "import numpy as np\n",
        "import os\n",
        "import sys\n",
        "import time\n",
        "\n",
        "# Images, plots, display, and visualization\n",
        "import matplotlib.pyplot as plt\n",
        "import pandas as pd\n",
        "\n",
        "print(tf.__version__)\n"
      ]
    },
    {
      "cell_type": "markdown",
      "metadata": {
        "id": "YRGrsd9uFKOb"
      },
      "source": [
        "## Download the Fashion-MNIST dataset \n",
        "\n",
        "\n",
        "The MIST data set of handwritten digits\n",
        "* is too easy (convolutional nets can achieve 99.7%) \n",
        "* is overused. \n",
        "* can not represent modern Computer Vision tasks\n",
        "\n",
        "[Fashion-MNIST](https://github.com/zalandoresearch/fashion-mnist) consists of 60,000 training images and 10,000 test images. It is a MNIST-like fashion product database. The developers believe MNIST has been overused so they created this as a direct replacement for that dataset. Each image is in greyscale and associated with a label from 10 classes.\n",
        "\n",
        "Fashion-MNIST is a dataset of Zalando's article images—consisting of a training set of 60,000 examples and a test set of 10,000 examples. \n",
        "Each example is a 28x28 grayscale image, associated with a label from 10 classes.\n",
        "\n",
        "\n",
        "Fashion-MNIST  serves as a direct drop-in replacement for the original MNIST dataset for benchmarking machine learning algorithms. It shares the same image size and structure of training and testing splits.\n",
        "\n",
        "* Size: 30 MB\n",
        "\n",
        "* Number of Records: 70,000 images in 10 classes\n",
        "\n",
        "* Images are 28x28 NumPy arrays, with pixel values ranging between 0 and 255. \n",
        "\n",
        "* Labels are an array of integers, ranging from 0 to 9.\n",
        "\n",
        "Label\tDescription\n",
        "0.\tT-shirt/top\n",
        "1.\tTrouser\n",
        "2.\tPullover\n",
        "3.\tDress\n",
        "4.\tCoat\n",
        "5.\tSandal\n",
        "6.\tShirt\n",
        "7.\tSneaker\n",
        "8.\tBag\n",
        "9.\tAnkle boot\n",
        "\n",
        "On https://github.com/zalandoresearch/fashion-mnist there is a list of benchmarks and the related NN architectures."
      ]
    },
    {
      "cell_type": "code",
      "execution_count": 2,
      "metadata": {
        "id": "34UQqKpyFKOk"
      },
      "outputs": [
        {
          "name": "stdout",
          "output_type": "stream",
          "text": [
            "Downloading data from https://storage.googleapis.com/tensorflow/tf-keras-datasets/train-labels-idx1-ubyte.gz\n",
            "29515/29515 [==============================] - 0s 1us/step\n",
            "Downloading data from https://storage.googleapis.com/tensorflow/tf-keras-datasets/train-images-idx3-ubyte.gz\n",
            "26421880/26421880 [==============================] - 4s 0us/step\n",
            "Downloading data from https://storage.googleapis.com/tensorflow/tf-keras-datasets/t10k-labels-idx1-ubyte.gz\n",
            "5148/5148 [==============================] - 0s 0us/step\n",
            "Downloading data from https://storage.googleapis.com/tensorflow/tf-keras-datasets/t10k-images-idx3-ubyte.gz\n",
            "4422102/4422102 [==============================] - 1s 0us/step\n"
          ]
        }
      ],
      "source": [
        "(train_images, train_labels), (test_images, test_labels) = keras.datasets.fashion_mnist.load_data()\n",
        "size_x=28\n",
        "size_y=28\n",
        "# reshape images to specify that it's a single channel\n",
        "train_images = train_images.reshape(train_images.shape[0], size_x, size_y, 1)\n",
        "test_images = test_images.reshape(test_images.shape[0], size_x, size_y, 1)"
      ]
    },
    {
      "cell_type": "markdown",
      "metadata": {
        "id": "CHsgfXYLFKOs"
      },
      "source": [
        "Let's convert the image pixels into a range of 0 to 1 before feeding to the neural network model by dividing the values of both the *training set* and the *testing set* by 255."
      ]
    },
    {
      "cell_type": "code",
      "execution_count": 3,
      "metadata": {
        "id": "NLeTnDZWFKOv"
      },
      "outputs": [],
      "source": [
        "def preprocess_images(imgs): # should work for both a single image and multiple images\n",
        "    sample_img = imgs if len(imgs.shape) == 2 else imgs[0]\n",
        "    assert sample_img.shape in [(size_x, size_y, 1), (size_x, size_y)], sample_img.shape # make sure images are 28x28 and single-channel (grayscale)\n",
        "    return imgs / 255.0\n",
        "\n",
        "train_images = preprocess_images(train_images)\n",
        "test_images = preprocess_images(test_images)"
      ]
    },
    {
      "cell_type": "markdown",
      "metadata": {
        "id": "ftNdQX_ZFKPD"
      },
      "source": [
        "Display the first *count* images from the *training set* and display the class name below each image. "
      ]
    },
    {
      "cell_type": "code",
      "execution_count": 4,
      "metadata": {
        "colab": {
          "base_uri": "https://localhost:8080/",
          "height": 95
        },
        "id": "WvQDj48KFKPH",
        "outputId": "80e65107-a419-40e3-c706-13f95ef6d0a1"
      },
      "outputs": [
        {
          "data": {
            "image/png": "[encoded data removed]",
            "text/plain": [
              "<Figure size 1600x100 with 15 Axes>"
            ]
          },
          "metadata": {},
          "output_type": "display_data"
        }
      ],
      "source": [
        "count = 15\n",
        "plt.figure(figsize=(16,1))\n",
        "for i in range(count):\n",
        "    plt.subplot(1,count,i+1)\n",
        "    plt.xticks([])\n",
        "    plt.yticks([])\n",
        "    plt.grid(False)\n",
        "    plt.imshow(train_images[i].reshape(size_x, size_y), cmap=plt.cm.binary)\n",
        "    plt.xlabel(train_labels[i])"
      ]
    },
    {
      "cell_type": "markdown",
      "metadata": {
        "id": "EqYEqUJxFKPS"
      },
      "source": [
        "\n",
        "### Optimize the CNN model\n",
        "\n",
        "Building the neural network requires configuring the layers of the model, then compiling the model. Here follows one possible configuration.\n",
        "\n",
        "You should analyze the present configuration and add other building blocks to obtain your best generalization result (accuracy) on the test set. \n",
        "\n",
        "Take inspiration from the Demos on Keras,  the documentation of [Keras](https://keras.io/) and on the architectures of benchmarks listed on the site of [Fashion-MNIST](https://github.com/zalandoresearch/fashion-mnist).\n",
        " \n"
      ]
    },
    {
      "cell_type": "code",
      "execution_count": 5,
      "metadata": {
        "colab": {
          "base_uri": "https://localhost:8080/"
        },
        "id": "oWOa5LOVFKPT",
        "outputId": "eec213a2-660c-4969-9cd3-f84764c0192a"
      },
      "outputs": [
        {
          "name": "stdout",
          "output_type": "stream",
          "text": [
            "Model: \"sequential\"\n",
            "_________________________________________________________________\n",
            " Layer (type)                Output Shape              Param #   \n",
            "=================================================================\n",
            " conv2d (Conv2D)             (None, 26, 26, 128)       1280      \n",
            "                                                                 \n",
            " flatten (Flatten)           (None, 86528)             0         \n",
            "                                                                 \n",
            " dense (Dense)               (None, 10)                865290    \n",
            "                                                                 \n",
            "=================================================================\n",
            "Total params: 866570 (3.31 MB)\n",
            "Trainable params: 866570 (3.31 MB)\n",
            "Non-trainable params: 0 (0.00 Byte)\n",
            "_________________________________________________________________\n",
            "None\n"
          ]
        }
      ],
      "source": [
        "model_1 = keras.Sequential()\n",
        "# 128 convolution filters used each of size 3x3\n",
        "model_1.add(Conv2D(128, kernel_size=(3, 3), activation='relu', input_shape=(size_x, size_y, 1)))\n",
        "model_1.add(Flatten())\n",
        "model_1.add(Dense(10, activation='softmax'))\n",
        "print(model_1.summary())"
      ]
    },
    {
      "cell_type": "code",
      "execution_count": 6,
      "metadata": {
        "colab": {
          "base_uri": "https://localhost:8080/"
        },
        "id": "seszIkZlFGr8",
        "outputId": "34949f9a-e28f-495c-d0df-51cd2b901def"
      },
      "outputs": [
        {
          "name": "stdout",
          "output_type": "stream",
          "text": [
            "Model: \"sequential_1\"\n",
            "_________________________________________________________________\n",
            " Layer (type)                Output Shape              Param #   \n",
            "=================================================================\n",
            " conv2d_1 (Conv2D)           (None, 26, 26, 64)        640       \n",
            "                                                                 \n",
            " max_pooling2d (MaxPooling2  (None, 13, 13, 64)        0         \n",
            " D)                                                              \n",
            "                                                                 \n",
            " conv2d_2 (Conv2D)           (None, 11, 11, 64)        36928     \n",
            "                                                                 \n",
            " max_pooling2d_1 (MaxPoolin  (None, 5, 5, 64)          0         \n",
            " g2D)                                                            \n",
            "                                                                 \n",
            " flatten_1 (Flatten)         (None, 1600)              0         \n",
            "                                                                 \n",
            " dense_1 (Dense)             (None, 10)                16010     \n",
            "                                                                 \n",
            "=================================================================\n",
            "Total params: 53578 (209.29 KB)\n",
            "Trainable params: 53578 (209.29 KB)\n",
            "Non-trainable params: 0 (0.00 Byte)\n",
            "_________________________________________________________________\n",
            "None\n"
          ]
        }
      ],
      "source": [
        "model_2 = tf.keras.models.Sequential()\n",
        "model_2.add\n",
        "model_2.add(Conv2D(64,(3,3),activation='relu',input_shape =(28,28,1)))\n",
        "model_2.add(MaxPooling2D(2,2))\n",
        "model_2.add(Conv2D(64,(3,3),activation='relu'))\n",
        "model_2.add(MaxPooling2D(2,2))\n",
        "model_2.add(Flatten())\n",
        "model_2.add(Dense(10, activation='softmax'))\n",
        "print(model_2.summary())"
      ]
    },
    {
      "cell_type": "code",
      "execution_count": 7,
      "metadata": {
        "colab": {
          "base_uri": "https://localhost:8080/"
        },
        "id": "lhYZ5bR80rcj",
        "outputId": "a031944c-36ba-4541-e446-30ed4d6d0075"
      },
      "outputs": [
        {
          "name": "stdout",
          "output_type": "stream",
          "text": [
            "Model: \"sequential_2\"\n",
            "_________________________________________________________________\n",
            " Layer (type)                Output Shape              Param #   \n",
            "=================================================================\n",
            " conv2d_3 (Conv2D)           (None, 26, 26, 64)        640       \n",
            "                                                                 \n",
            " max_pooling2d_2 (MaxPoolin  (None, 13, 13, 64)        0         \n",
            " g2D)                                                            \n",
            "                                                                 \n",
            " conv2d_4 (Conv2D)           (None, 11, 11, 64)        36928     \n",
            "                                                                 \n",
            " max_pooling2d_3 (MaxPoolin  (None, 5, 5, 64)          0         \n",
            " g2D)                                                            \n",
            "                                                                 \n",
            " flatten_2 (Flatten)         (None, 1600)              0         \n",
            "                                                                 \n",
            " dense_2 (Dense)             (None, 10)                16010     \n",
            "                                                                 \n",
            "=================================================================\n",
            "Total params: 53578 (209.29 KB)\n",
            "Trainable params: 53578 (209.29 KB)\n",
            "Non-trainable params: 0 (0.00 Byte)\n",
            "_________________________________________________________________\n",
            "None\n"
          ]
        }
      ],
      "source": [
        "model_3 = tf.keras.models.Sequential()\n",
        "model_3.add\n",
        "model_3.add(Conv2D(64,(3,3),activation='relu',input_shape =(28,28,1)))\n",
        "model_3.add(MaxPooling2D(2,2))\n",
        "model_3.add(Conv2D(64,(3,3),activation='relu'))\n",
        "model_3.add(MaxPooling2D(2,2))\n",
        "model_3.add(Flatten())\n",
        "model_3.add(Dense(10, activation='softmax'))\n",
        "print(model_3.summary())"
      ]
    },
    {
      "cell_type": "markdown",
      "metadata": {
        "id": "fUHo8mPbFKPb"
      },
      "source": [
        "## Model compilation\n",
        "\n",
        "Before the model is ready for training, it needs a few more settings. These are added during the model's *compile* step:\n",
        "\n",
        "* *Loss function* - measures how accurate the model is during training, we want to minimize this with the optimizer.\n",
        "* *Optimizer* - how the model is updated based on the data it sees and its loss function.\n",
        "* *Metrics* - used to monitor the training and testing steps. \"accuracy\" is the fraction of images that are correctly classified.\n",
        "\n",
        "Those setting are relevant to improve the generalization on the test set and the learning time.\n",
        "See the [Keras documentation](https://keras.io/) to select the optimal setting."
      ]
    },
    {
      "cell_type": "code",
      "execution_count": 8,
      "metadata": {
        "id": "gPDJn26KFKPe"
      },
      "outputs": [
        {
          "name": "stderr",
          "output_type": "stream",
          "text": [
            "WARNING:absl:At this time, the v2.11+ optimizer `tf.keras.optimizers.SGD` runs slowly on M1/M2 Macs, please use the legacy Keras optimizer instead, located at `tf.keras.optimizers.legacy.SGD`.\n"
          ]
        }
      ],
      "source": [
        "model_1.compile(optimizer=tf.optimizers.SGD(), loss='sparse_categorical_crossentropy', metrics=['accuracy'])"
      ]
    },
    {
      "cell_type": "code",
      "execution_count": 9,
      "metadata": {
        "id": "kP800K9zJDll"
      },
      "outputs": [
        {
          "name": "stderr",
          "output_type": "stream",
          "text": [
            "WARNING:absl:At this time, the v2.11+ optimizer `tf.keras.optimizers.SGD` runs slowly on M1/M2 Macs, please use the legacy Keras optimizer instead, located at `tf.keras.optimizers.legacy.SGD`.\n"
          ]
        }
      ],
      "source": [
        "model_2.compile(optimizer=tf.optimizers.SGD(), loss='sparse_categorical_crossentropy', metrics=['accuracy'])"
      ]
    },
    {
      "cell_type": "code",
      "execution_count": 10,
      "metadata": {
        "id": "-E-RfWstWGIQ"
      },
      "outputs": [
        {
          "name": "stderr",
          "output_type": "stream",
          "text": [
            "WARNING:absl:At this time, the v2.11+ optimizer `tf.keras.optimizers.Adam` runs slowly on M1/M2 Macs, please use the legacy Keras optimizer instead, located at `tf.keras.optimizers.legacy.Adam`.\n"
          ]
        }
      ],
      "source": [
        "model_3.compile(optimizer=tf.optimizers.Adam(), loss='sparse_categorical_crossentropy', metrics=['accuracy'])"
      ]
    },
    {
      "cell_type": "markdown",
      "metadata": {
        "id": "CzydQVk1FKPm"
      },
      "source": [
        "### Model training\n",
        "\n",
        "\n",
        "Being in a context of *supervised learning*, training the neural network model requires to call the `model.fit` method on the training data `train_images` and the relevant ground truth `train_labels`.\n",
        "\n",
        "To make predictions we use a test set `test_images` and check the predictions against the `test_labels` array. "
      ]
    },
    {
      "cell_type": "markdown",
      "metadata": {
        "id": "nTSLSsYieHRy"
      },
      "source": [
        "# Model_1 \n",
        "this model is the first model which has been presented by the the main file with using SGD optimizer, as the results are shown:"
      ]
    },
    {
      "cell_type": "code",
      "execution_count": 14,
      "metadata": {
        "colab": {
          "base_uri": "https://localhost:8080/"
        },
        "id": "UuerNpGCFKPn",
        "outputId": "f2a8613b-c7fd-4ede-8f47-4ee0f39bd920",
        "scrolled": true
      },
      "outputs": [
        {
          "name": "stdout",
          "output_type": "stream",
          "text": [
            "(60000, 28, 28, 1)\n",
            "Epoch 1/50\n",
            "1875/1875 [==============================] - 13s 7ms/step - loss: 0.3074 - accuracy: 0.8921 - val_loss: 0.3429 - val_accuracy: 0.8815\n",
            "Epoch 2/50\n",
            "1875/1875 [==============================] - 12s 7ms/step - loss: 0.2993 - accuracy: 0.8945 - val_loss: 0.3377 - val_accuracy: 0.8801\n",
            "Epoch 3/50\n",
            "1875/1875 [==============================] - 13s 7ms/step - loss: 0.2914 - accuracy: 0.8972 - val_loss: 0.3283 - val_accuracy: 0.8845\n",
            "Epoch 4/50\n",
            "1875/1875 [==============================] - 14s 7ms/step - loss: 0.2851 - accuracy: 0.8986 - val_loss: 0.3290 - val_accuracy: 0.8846\n",
            "Epoch 5/50\n",
            "1875/1875 [==============================] - 14s 8ms/step - loss: 0.2794 - accuracy: 0.9008 - val_loss: 0.3399 - val_accuracy: 0.8755\n",
            "Epoch 6/50\n",
            "1875/1875 [==============================] - 14s 7ms/step - loss: 0.2734 - accuracy: 0.9032 - val_loss: 0.3176 - val_accuracy: 0.8875\n",
            "Epoch 7/50\n",
            "1875/1875 [==============================] - 16s 8ms/step - loss: 0.2682 - accuracy: 0.9054 - val_loss: 0.3244 - val_accuracy: 0.8855\n",
            "Epoch 8/50\n",
            "1875/1875 [==============================] - 14s 7ms/step - loss: 0.2641 - accuracy: 0.9060 - val_loss: 0.3112 - val_accuracy: 0.8896\n",
            "Epoch 9/50\n",
            "1875/1875 [==============================] - 17s 9ms/step - loss: 0.2599 - accuracy: 0.9075 - val_loss: 0.3147 - val_accuracy: 0.8872\n",
            "Epoch 10/50\n",
            "1875/1875 [==============================] - 15s 8ms/step - loss: 0.2547 - accuracy: 0.9092 - val_loss: 0.3191 - val_accuracy: 0.8850\n",
            "Epoch 11/50\n",
            "1875/1875 [==============================] - 14s 7ms/step - loss: 0.2505 - accuracy: 0.9119 - val_loss: 0.3153 - val_accuracy: 0.8870\n",
            "Epoch 12/50\n",
            "1875/1875 [==============================] - 14s 8ms/step - loss: 0.2470 - accuracy: 0.9126 - val_loss: 0.3029 - val_accuracy: 0.8922\n",
            "Epoch 13/50\n",
            "1875/1875 [==============================] - 15s 8ms/step - loss: 0.2437 - accuracy: 0.9130 - val_loss: 0.3059 - val_accuracy: 0.8915\n",
            "Epoch 14/50\n",
            "1875/1875 [==============================] - 13s 7ms/step - loss: 0.2401 - accuracy: 0.9150 - val_loss: 0.3032 - val_accuracy: 0.8922\n",
            "Epoch 15/50\n",
            "1875/1875 [==============================] - 14s 8ms/step - loss: 0.2366 - accuracy: 0.9159 - val_loss: 0.3021 - val_accuracy: 0.8903\n",
            "Epoch 16/50\n",
            "1875/1875 [==============================] - 13s 7ms/step - loss: 0.2328 - accuracy: 0.9179 - val_loss: 0.3044 - val_accuracy: 0.8923\n",
            "Epoch 17/50\n",
            "1875/1875 [==============================] - 13s 7ms/step - loss: 0.2299 - accuracy: 0.9192 - val_loss: 0.3000 - val_accuracy: 0.8923\n",
            "Epoch 18/50\n",
            "1875/1875 [==============================] - 15s 8ms/step - loss: 0.2271 - accuracy: 0.9195 - val_loss: 0.2977 - val_accuracy: 0.8944\n",
            "Epoch 19/50\n",
            "1875/1875 [==============================] - 14s 7ms/step - loss: 0.2239 - accuracy: 0.9205 - val_loss: 0.3027 - val_accuracy: 0.8908\n",
            "Epoch 20/50\n",
            "1875/1875 [==============================] - 14s 8ms/step - loss: 0.2211 - accuracy: 0.9226 - val_loss: 0.3007 - val_accuracy: 0.8967\n",
            "Epoch 21/50\n",
            "1875/1875 [==============================] - 14s 8ms/step - loss: 0.2187 - accuracy: 0.9221 - val_loss: 0.2965 - val_accuracy: 0.8967\n",
            "Epoch 22/50\n",
            "1875/1875 [==============================] - 15s 8ms/step - loss: 0.2156 - accuracy: 0.9227 - val_loss: 0.2981 - val_accuracy: 0.8946\n",
            "Epoch 23/50\n",
            "1875/1875 [==============================] - 14s 8ms/step - loss: 0.2136 - accuracy: 0.9237 - val_loss: 0.2971 - val_accuracy: 0.8961\n",
            "Epoch 24/50\n",
            "1875/1875 [==============================] - 17s 9ms/step - loss: 0.2109 - accuracy: 0.9251 - val_loss: 0.3005 - val_accuracy: 0.8926\n",
            "Epoch 25/50\n",
            "1875/1875 [==============================] - 15s 8ms/step - loss: 0.2091 - accuracy: 0.9260 - val_loss: 0.3037 - val_accuracy: 0.8921\n",
            "Epoch 26/50\n",
            "1875/1875 [==============================] - 13s 7ms/step - loss: 0.2064 - accuracy: 0.9279 - val_loss: 0.2936 - val_accuracy: 0.8950\n",
            "Epoch 27/50\n",
            "1875/1875 [==============================] - 14s 8ms/step - loss: 0.2044 - accuracy: 0.9284 - val_loss: 0.2901 - val_accuracy: 0.8984\n",
            "Epoch 28/50\n",
            "1875/1875 [==============================] - 14s 8ms/step - loss: 0.2021 - accuracy: 0.9290 - val_loss: 0.2948 - val_accuracy: 0.8953\n",
            "Epoch 29/50\n",
            "1875/1875 [==============================] - 16s 9ms/step - loss: 0.1995 - accuracy: 0.9290 - val_loss: 0.2873 - val_accuracy: 0.9001\n",
            "Epoch 30/50\n",
            "1875/1875 [==============================] - 15s 8ms/step - loss: 0.1971 - accuracy: 0.9311 - val_loss: 0.2902 - val_accuracy: 0.8986\n",
            "Epoch 31/50\n",
            "1875/1875 [==============================] - 14s 8ms/step - loss: 0.1952 - accuracy: 0.9316 - val_loss: 0.2904 - val_accuracy: 0.8992\n",
            "Epoch 32/50\n",
            "1875/1875 [==============================] - 14s 8ms/step - loss: 0.1934 - accuracy: 0.9316 - val_loss: 0.2893 - val_accuracy: 0.8985\n",
            "Epoch 33/50\n",
            "1875/1875 [==============================] - 15s 8ms/step - loss: 0.1911 - accuracy: 0.9327 - val_loss: 0.2900 - val_accuracy: 0.8964\n",
            "Epoch 34/50\n",
            "1875/1875 [==============================] - 15s 8ms/step - loss: 0.1895 - accuracy: 0.9335 - val_loss: 0.2956 - val_accuracy: 0.8969\n",
            "Epoch 35/50\n",
            "1875/1875 [==============================] - 15s 8ms/step - loss: 0.1873 - accuracy: 0.9334 - val_loss: 0.2874 - val_accuracy: 0.9013\n",
            "Epoch 36/50\n",
            "1875/1875 [==============================] - 13s 7ms/step - loss: 0.1855 - accuracy: 0.9344 - val_loss: 0.2938 - val_accuracy: 0.8991\n",
            "Epoch 37/50\n",
            "1875/1875 [==============================] - 14s 7ms/step - loss: 0.1836 - accuracy: 0.9350 - val_loss: 0.2878 - val_accuracy: 0.8964\n",
            "Epoch 38/50\n",
            "1875/1875 [==============================] - 15s 8ms/step - loss: 0.1821 - accuracy: 0.9360 - val_loss: 0.2894 - val_accuracy: 0.8987\n",
            "Epoch 39/50\n",
            "1875/1875 [==============================] - 16s 9ms/step - loss: 0.1799 - accuracy: 0.9365 - val_loss: 0.2869 - val_accuracy: 0.9008\n",
            "Epoch 40/50\n",
            "1875/1875 [==============================] - 14s 7ms/step - loss: 0.1784 - accuracy: 0.9373 - val_loss: 0.2890 - val_accuracy: 0.8998\n",
            "Epoch 41/50\n",
            "1875/1875 [==============================] - 14s 7ms/step - loss: 0.1767 - accuracy: 0.9384 - val_loss: 0.2929 - val_accuracy: 0.8989\n",
            "Epoch 42/50\n",
            "1875/1875 [==============================] - 14s 8ms/step - loss: 0.1748 - accuracy: 0.9392 - val_loss: 0.2834 - val_accuracy: 0.9004\n",
            "Epoch 43/50\n",
            "1875/1875 [==============================] - 16s 8ms/step - loss: 0.1739 - accuracy: 0.9386 - val_loss: 0.2850 - val_accuracy: 0.9004\n",
            "Epoch 44/50\n",
            "1875/1875 [==============================] - 16s 8ms/step - loss: 0.1713 - accuracy: 0.9404 - val_loss: 0.2882 - val_accuracy: 0.9006\n",
            "Epoch 45/50\n",
            "1875/1875 [==============================] - 17s 9ms/step - loss: 0.1701 - accuracy: 0.9407 - val_loss: 0.2845 - val_accuracy: 0.9005\n",
            "Epoch 46/50\n",
            "1875/1875 [==============================] - 14s 8ms/step - loss: 0.1688 - accuracy: 0.9410 - val_loss: 0.2855 - val_accuracy: 0.9012\n",
            "Epoch 47/50\n",
            "1875/1875 [==============================] - 13s 7ms/step - loss: 0.1674 - accuracy: 0.9405 - val_loss: 0.2824 - val_accuracy: 0.9033\n",
            "Epoch 48/50\n",
            "1875/1875 [==============================] - 15s 8ms/step - loss: 0.1649 - accuracy: 0.9430 - val_loss: 0.2888 - val_accuracy: 0.9023\n",
            "Epoch 49/50\n",
            "1875/1875 [==============================] - 15s 8ms/step - loss: 0.1645 - accuracy: 0.9426 - val_loss: 0.2884 - val_accuracy: 0.9022\n",
            "Epoch 50/50\n",
            "1875/1875 [==============================] - 15s 8ms/step - loss: 0.1623 - accuracy: 0.9440 - val_loss: 0.2824 - val_accuracy: 0.9035\n",
            "\n",
            "Training time (seconds) 724.8310089111328\n"
          ]
        }
      ],
      "source": [
        "print(train_images.shape)\n",
        "t_before = time.time()    \n",
        "model_1.fit(train_images, train_labels, validation_data=(test_images, test_labels),epochs=50) \n",
        "t_after = time.time()\n",
        "t_training = t_after - t_before\n",
        "print()\n",
        "print(\"Training time (seconds)\", t_training)"
      ]
    },
    {
      "cell_type": "markdown",
      "metadata": {
        "id": "xRFDPfAz5_Tb"
      },
      "source": [
        "# Model_2\n",
        "this model is the second model which has been presented by us with using SGD optimizer, as the results are shown:\n"
      ]
    },
    {
      "cell_type": "code",
      "execution_count": 12,
      "metadata": {
        "colab": {
          "base_uri": "https://localhost:8080/"
        },
        "id": "hmqe8BeAWJ1v",
        "outputId": "326df5db-15b8-45c8-91a2-23b2ec273566"
      },
      "outputs": [
        {
          "name": "stdout",
          "output_type": "stream",
          "text": [
            "(60000, 28, 28, 1)\n",
            "Epoch 1/10\n",
            "1875/1875 [==============================] - 26s 14ms/step - loss: 0.9147 - accuracy: 0.6732 - val_loss: 0.6470 - val_accuracy: 0.7675\n",
            "Epoch 2/10\n",
            "1875/1875 [==============================] - 25s 13ms/step - loss: 0.5568 - accuracy: 0.7956 - val_loss: 0.5337 - val_accuracy: 0.8071\n",
            "Epoch 3/10\n",
            "1875/1875 [==============================] - 31s 16ms/step - loss: 0.4791 - accuracy: 0.8274 - val_loss: 0.4709 - val_accuracy: 0.8325\n",
            "Epoch 4/10\n",
            "1875/1875 [==============================] - 30s 16ms/step - loss: 0.4403 - accuracy: 0.8440 - val_loss: 0.4356 - val_accuracy: 0.8450\n",
            "Epoch 5/10\n",
            "1875/1875 [==============================] - 30s 16ms/step - loss: 0.4149 - accuracy: 0.8521 - val_loss: 0.4155 - val_accuracy: 0.8526\n",
            "Epoch 6/10\n",
            "1875/1875 [==============================] - 23s 12ms/step - loss: 0.3956 - accuracy: 0.8594 - val_loss: 0.4112 - val_accuracy: 0.8551\n",
            "Epoch 7/10\n",
            "1875/1875 [==============================] - 23s 12ms/step - loss: 0.3803 - accuracy: 0.8642 - val_loss: 0.3985 - val_accuracy: 0.8575\n",
            "Epoch 8/10\n",
            "1875/1875 [==============================] - 23s 12ms/step - loss: 0.3686 - accuracy: 0.8686 - val_loss: 0.3882 - val_accuracy: 0.8613\n",
            "Epoch 9/10\n",
            "1875/1875 [==============================] - 23s 13ms/step - loss: 0.3581 - accuracy: 0.8719 - val_loss: 0.4138 - val_accuracy: 0.8482\n",
            "Epoch 10/10\n",
            "1875/1875 [==============================] - 22s 12ms/step - loss: 0.3500 - accuracy: 0.8746 - val_loss: 0.3751 - val_accuracy: 0.8655\n",
            "\n",
            "Training time (seconds) 256.75827503204346\n"
          ]
        }
      ],
      "source": [
        "print(train_images.shape)\n",
        "t_before = time.time()    \n",
        "model_2.fit(train_images, train_labels, validation_data=(test_images, test_labels),epochs=50) \n",
        "t_after = time.time()\n",
        "t_training = t_after - t_before\n",
        "print()\n",
        "print(\"Training time (seconds)\", t_training)"
      ]
    },
    {
      "cell_type": "markdown",
      "metadata": {
        "id": "Nq0_JIN-fNoh"
      },
      "source": [
        "# Model_3\n",
        "this model is the second model which has been presented by us with using ADAM optimizer."
      ]
    },
    {
      "cell_type": "code",
      "execution_count": 13,
      "metadata": {
        "colab": {
          "base_uri": "https://localhost:8080/"
        },
        "id": "-plPtasM1H6d",
        "outputId": "02e3b042-8c68-405d-e308-c8389835491d"
      },
      "outputs": [
        {
          "name": "stdout",
          "output_type": "stream",
          "text": [
            "(60000, 28, 28, 1)\n",
            "Epoch 1/10\n",
            "1875/1875 [==============================] - 21s 11ms/step - loss: 0.4663 - accuracy: 0.8325 - val_loss: 0.3643 - val_accuracy: 0.8723\n",
            "Epoch 2/10\n",
            "1875/1875 [==============================] - 20s 11ms/step - loss: 0.3222 - accuracy: 0.8849 - val_loss: 0.3541 - val_accuracy: 0.8766\n",
            "Epoch 3/10\n",
            "1875/1875 [==============================] - 22s 12ms/step - loss: 0.2808 - accuracy: 0.8990 - val_loss: 0.3079 - val_accuracy: 0.8893\n",
            "Epoch 4/10\n",
            "1875/1875 [==============================] - 21s 11ms/step - loss: 0.2512 - accuracy: 0.9086 - val_loss: 0.2958 - val_accuracy: 0.8892\n",
            "Epoch 5/10\n",
            "1875/1875 [==============================] - 22s 12ms/step - loss: 0.2283 - accuracy: 0.9166 - val_loss: 0.2888 - val_accuracy: 0.8975\n",
            "Epoch 6/10\n",
            "1875/1875 [==============================] - 20s 10ms/step - loss: 0.2106 - accuracy: 0.9226 - val_loss: 0.3012 - val_accuracy: 0.8892\n",
            "Epoch 7/10\n",
            "1875/1875 [==============================] - 19s 10ms/step - loss: 0.1953 - accuracy: 0.9279 - val_loss: 0.2677 - val_accuracy: 0.9070\n",
            "Epoch 8/10\n",
            "1875/1875 [==============================] - 19s 10ms/step - loss: 0.1817 - accuracy: 0.9346 - val_loss: 0.2708 - val_accuracy: 0.9105\n",
            "Epoch 9/10\n",
            "1875/1875 [==============================] - 19s 10ms/step - loss: 0.1702 - accuracy: 0.9370 - val_loss: 0.2700 - val_accuracy: 0.9068\n",
            "Epoch 10/10\n",
            "1875/1875 [==============================] - 19s 10ms/step - loss: 0.1588 - accuracy: 0.9415 - val_loss: 0.2876 - val_accuracy: 0.9041\n",
            "\n",
            "Training time (seconds) 203.79303073883057\n"
          ]
        }
      ],
      "source": [
        "print(train_images.shape)\n",
        "t_before = time.time()    \n",
        "model_3.fit(train_images, train_labels, validation_data=(test_images, test_labels),epochs=50) \n",
        "t_after = time.time()\n",
        "t_training = t_after - t_before\n",
        "print()\n",
        "print(\"Training time (seconds)\", t_training)"
      ]
    }
  ],
  "metadata": {
    "accelerator": "GPU",
    "colab": {
      "collapsed_sections": [],
      "name": "CNN_Fashion.ipynb",
      "provenance": []
    },
    "kernelspec": {
      "display_name": "Python 3 (ipykernel)",
      "language": "python",
      "name": "python3"
    },
    "language_info": {
      "codemirror_mode": {
        "name": "ipython",
        "version": 3
      },
      "file_extension": ".py",
      "mimetype": "text/x-python",
      "name": "python",
      "nbconvert_exporter": "python",
      "pygments_lexer": "ipython3",
      "version": "3.11.6"
    }
  },
  "nbformat": 4,
  "nbformat_minor": 0
}
